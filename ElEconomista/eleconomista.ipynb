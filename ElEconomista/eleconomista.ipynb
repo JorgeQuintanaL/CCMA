{
 "cells": [
  {
   "cell_type": "code",
   "execution_count": 1,
   "metadata": {},
   "outputs": [],
   "source": [
    "from selenium import webdriver\n",
    "from bs4 import BeautifulSoup\n",
    "import pandas as pd\n",
    "import math\n",
    "from webdriver_manager.chrome import ChromeDriverManager\n",
    "\n",
    "consultas = pd.read_csv('Turismo/consultas_2.csv')\n",
    "consultas = list(consultas.values)\n",
    "consultas = [consulta[0] for consulta in consultas]\n",
    "eleconomista = []\n",
    "\n",
    "# driver = webdriver.Chrome(ChromeDriverManager().install())\n",
    "\n",
    "options = webdriver.ChromeOptions()\n",
    "# options.add_argument('--headless')\n",
    "options.add_argument('--start-maximized')\n",
    "options.add_argument('disable-infobars')\n",
    "options.add_argument('--disable-extensions')\n",
    "options.add_argument('--no-sandbox')\n",
    "options.add_argument('--disable-dev-shm-usage')"
   ]
  },
  {
   "cell_type": "code",
   "execution_count": 2,
   "metadata": {},
   "outputs": [
    {
     "data": {
      "text/plain": [
       "['Centro Cultural',\n",
       " 'Centros Culturales',\n",
       " 'Teatro',\n",
       " 'Teatros',\n",
       " 'Museo',\n",
       " 'Museos',\n",
       " 'Parques',\n",
       " 'Parques recreativos']"
      ]
     },
     "execution_count": 2,
     "metadata": {},
     "output_type": "execute_result"
    }
   ],
   "source": [
    "consultas"
   ]
  },
  {
   "cell_type": "code",
   "execution_count": 4,
   "metadata": {},
   "outputs": [
    {
     "name": "stdout",
     "output_type": "stream",
     "text": [
      "Tema: CENTRO-CULTURAL Resultados: 600\n",
      "Tema: CENTROS-CULTURALES Resultados: 42\n",
      "Tema: TEATRO Resultados: 37\n",
      "Tema: TEATROS Resultados: 1\n",
      "Tema: MUSEO Resultados: 15\n",
      "Tema: MUSEOS Resultados: 1\n",
      "Tema: PARQUES Resultados: 21\n",
      "Tema: PARQUES-RECREATIVOS Resultados: 26\n"
     ]
    }
   ],
   "source": [
    "for tema_busqueda in consultas:\n",
    "    tema_busqueda = tema_busqueda.upper().replace(' ', '-')\n",
    "    driver = webdriver.Chrome('/Users/jorgequintana/.wdm/chromedriver/2.46/mac64/chromedriver', options=options)\n",
    "    driver.get('http://empresite.eleconomistaamerica.co/Actividad/{}/departamento/ANTIOQUIA/'.format(tema_busqueda))\n",
    "    response = driver.find_element_by_tag_name('body')\n",
    "    resultados = driver.execute_script('return arguments[0].innerHTML', response)\n",
    "    resultados_html = BeautifulSoup(resultados, 'html.parser')\n",
    "    driver.close()\n",
    "    if resultados_html.find_all('h2', {'class': 'title01'}) == []:\n",
    "        total_resultados = 0\n",
    "    else:\n",
    "        total_resultados = resultados_html.find_all('h2', {'class': 'title01'})[0].get_text().split(' ')[0].replace('.', '')\n",
    "        \n",
    "    print('Tema: ' + tema_busqueda + ' Resultados: ' + str(total_resultados))\n",
    "\n",
    "    if int(total_resultados) >= 100:\n",
    "        paginas = 3\n",
    "    else:\n",
    "        paginas = math.ceil(int(total_resultados)/30)\n",
    "\n",
    "    for i in range(1, paginas+1):\n",
    "        driver = webdriver.Chrome('/Users/jorgequintana/.wdm/chromedriver/2.46/mac64/chromedriver', options=options)\n",
    "        driver.get('http://empresite.eleconomistaamerica.co/Actividad/{}/departamento/ANTIOQUIA/PgNum-{}/'.format(tema_busqueda, i))\n",
    "        response = driver.find_element_by_tag_name('body')\n",
    "        resultados = driver.execute_script('return arguments[0].innerHTML', response)\n",
    "        resultados_html = BeautifulSoup(resultados, 'html.parser')\n",
    "        driver.close()\n",
    "        empresas = resultados_html.find_all('li', {'class': 'resultado_pagina'})\n",
    "\n",
    "        for empresa in empresas:\n",
    "            try:\n",
    "                nombre_empresa = empresa.find_all('a')[0].get_text()\n",
    "            except:\n",
    "                nombre_empresa = None\n",
    "            try:\n",
    "                link_empresa = empresa.find_all('a')[0].get('href')\n",
    "            except:\n",
    "                link_empresa = None\n",
    "            try:\n",
    "                direccion = empresa.find_all('div', {'class': 'street-address inline'})[0].get_text()\n",
    "            except:\n",
    "                direccion = None\n",
    "            try:\n",
    "                departamento = empresa.find_all('div', {'class': 'region inline'})[0].get_text()\n",
    "            except:\n",
    "                departamento = None\n",
    "            try:\n",
    "                ciudad = empresa.find_all('div', {'class': 'locality inline'})[0].get_text()\n",
    "            except:\n",
    "                ciudad = None\n",
    "\n",
    "            driver = webdriver.Chrome('/Users/jorgequintana/.wdm/chromedriver/2.46/mac64/chromedriver', options=options)\n",
    "            driver.get(link_empresa)\n",
    "            try:\n",
    "                response = driver.find_element_by_class_name('list06')\n",
    "                resultados = driver.execute_script('return arguments[0].innerHTML', response)\n",
    "                resultados_html = BeautifulSoup(resultados, 'html.parser')\n",
    "                driver.close()\n",
    "                actividad = resultados_html.find_all('span', {'class': 'category'})[0].get_text()\n",
    "                telefono = resultados_html.find_all('span', {'class': 'tel'})[0].get_text()\n",
    "            except:\n",
    "                actividad = None\n",
    "                telefono = None\n",
    "            eleconomista.append({'Tema_Busqueda': tema_busqueda,\n",
    "                                 'Nombre_Empresa': nombre_empresa,\n",
    "                                 'Link': link_empresa,\n",
    "                                 'Direccion': direccion,\n",
    "                                 'Departamento': departamento,\n",
    "                                 'Ciudad': ciudad,\n",
    "                                 'Actividad': actividad,\n",
    "                                 'telefono': telefono})"
   ]
  },
  {
   "cell_type": "code",
   "execution_count": 6,
   "metadata": {},
   "outputs": [],
   "source": [
    "# eleconomista = pd.DataFrame(eleconomista)\n",
    "# eleconomista.groupby('Tema_Busqueda').count()\n",
    "eleconomista.to_csv('Turismo/resultados_turismo_3.csv', sep = ';', encoding = 'utf-8')"
   ]
  }
 ],
 "metadata": {
  "kernelspec": {
   "display_name": "Python 3",
   "language": "python",
   "name": "python3"
  },
  "language_info": {
   "codemirror_mode": {
    "name": "ipython",
    "version": 3
   },
   "file_extension": ".py",
   "mimetype": "text/x-python",
   "name": "python",
   "nbconvert_exporter": "python",
   "pygments_lexer": "ipython3",
   "version": "3.6.3"
  }
 },
 "nbformat": 4,
 "nbformat_minor": 2
}
